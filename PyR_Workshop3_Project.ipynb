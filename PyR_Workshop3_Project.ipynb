{
  "nbformat": 4,
  "nbformat_minor": 0,
  "metadata": {
    "colab": {
      "provenance": []
    },
    "kernelspec": {
      "name": "python3",
      "display_name": "Python 3"
    },
    "language_info": {
      "name": "python"
    }
  },
  "cells": [
    {
      "cell_type": "markdown",
      "source": [
        "# Project Sample"
      ],
      "metadata": {
        "id": "Fn8rvm90-4LL"
      }
    },
    {
      "cell_type": "code",
      "metadata": {
        "id": "KsCjy_Dk-cyk"
      },
      "source": [
        "import numpy as np\n",
        "import pandas as pd\n",
        "import matplotlib.pyplot as plt"
      ],
      "execution_count": null,
      "outputs": []
    },
    {
      "cell_type": "markdown",
      "source": [
        "##Read Data - Tables from internet"
      ],
      "metadata": {
        "id": "-d5NtuxCmvg9"
      }
    },
    {
      "cell_type": "markdown",
      "source": [
        "<font color='magenta'>Download the datafile from my public google drive!"
      ],
      "metadata": {
        "id": "JUfm4Q3quo3Q"
      }
    },
    {
      "cell_type": "code",
      "source": [
        "#CSV File\n",
        "!gdown --id 1sCEQsdfw1-JsuugJMgDuxcq4iUvqAI1f"
      ],
      "metadata": {
        "id": "UtaHLeSFuSit"
      },
      "execution_count": null,
      "outputs": []
    },
    {
      "cell_type": "markdown",
      "source": [
        "# Manual Analysis"
      ],
      "metadata": {
        "id": "XKoxTLjv3bgV"
      }
    },
    {
      "cell_type": "code",
      "source": [
        "def CSV_Data_Reader(File_Name, Seprator, NonNumerical):\n",
        "  '''\n",
        "  This function takes a csv file and generate a dictionary\n",
        "  The keys of the dictionary are the column names\n",
        "  Values of the dictionary are columns of the data\n",
        "  '''\n",
        "  import csv\n",
        "  with open(File_Name) as csv_file:\n",
        "    csv_reader = csv.reader(csv_file, delimiter=Seprator)\n",
        "    line_count=0\n",
        "    Data=[]\n",
        "    for row in csv_reader:\n",
        "      if line_count==0:\n",
        "        Header=row\n",
        "      else:\n",
        "        Data.append(row)\n",
        "      line_count=line_count+1\n",
        "\n",
        "  Data_dict={}\n",
        "\n",
        "  idx=0\n",
        "  for name in Header:\n",
        "    Data_dict[name]=[]\n",
        "    for row in Data:\n",
        "      if name in NonNumerical:\n",
        "        Data_dict[name].append(row[idx])\n",
        "      else:\n",
        "        if row[idx].replace('.','').isdigit():\n",
        "          Data_dict[name].append(float(row[idx]))\n",
        "        else:\n",
        "          Data_dict[name].append(None)\n",
        "    idx=idx+1\n",
        "  return Data_dict"
      ],
      "metadata": {
        "id": "gWlkBqFO28rI"
      },
      "execution_count": null,
      "outputs": []
    },
    {
      "cell_type": "code",
      "source": [
        "Data=CSV_Data_Reader('/content/AI_030_JM_Data_All.csv',',',['DateTime'])"
      ],
      "metadata": {
        "id": "RobbE-lI3ozd"
      },
      "execution_count": null,
      "outputs": []
    },
    {
      "cell_type": "code",
      "source": [
        "DataCut={}\n",
        "\n",
        "q=0\n",
        "for i in Data:\n",
        "  q=q+1\n",
        "  if q <25:\n",
        "    if i[0]=='T' or i[0]=='S' or i[0]=='D':\n",
        "      DataCut[i]=Data[i]\n"
      ],
      "metadata": {
        "id": "zTUNCORS39yg"
      },
      "execution_count": null,
      "outputs": []
    },
    {
      "cell_type": "code",
      "source": [
        "for i in DataCut:\n",
        "  print(i)"
      ],
      "metadata": {
        "id": "05efSGss40cZ"
      },
      "execution_count": null,
      "outputs": []
    },
    {
      "cell_type": "code",
      "source": [
        "DataCut['DateTime'][0]"
      ],
      "metadata": {
        "id": "VBAMcBm347pJ"
      },
      "execution_count": null,
      "outputs": []
    },
    {
      "cell_type": "markdown",
      "source": [
        "### Parse DateTime - Time series"
      ],
      "metadata": {
        "id": "kO6W1TaO5ZLE"
      }
    },
    {
      "cell_type": "code",
      "source": [
        "import datetime"
      ],
      "metadata": {
        "id": "vvqH9iLw5b5M"
      },
      "execution_count": null,
      "outputs": []
    },
    {
      "cell_type": "code",
      "source": [
        "datetime.datetime.strptime(DataCut['DateTime'][0], '%m/%d/%Y %H:%M')"
      ],
      "metadata": {
        "id": "T6OtE4l_5nqh"
      },
      "execution_count": null,
      "outputs": []
    },
    {
      "cell_type": "code",
      "source": [
        "datetime.datetime.strptime(DataCut['DateTime'][0], '%m/%d/%Y %H:%M').month"
      ],
      "metadata": {
        "id": "mzfKSN6F6M3U"
      },
      "execution_count": null,
      "outputs": []
    },
    {
      "cell_type": "code",
      "source": [
        "q=0\n",
        "for i in DataCut['DateTime']:\n",
        "  DataCut['DateTime'][q]=datetime.datetime.strptime(i, '%m/%d/%Y %H:%M')\n",
        "  q=q+1\n",
        "\n",
        "\n"
      ],
      "metadata": {
        "id": "LmgfjWnp6RUl"
      },
      "execution_count": null,
      "outputs": []
    },
    {
      "cell_type": "code",
      "source": [
        "DataCut['DateTime'][0]"
      ],
      "metadata": {
        "id": "jajG4FPL6pNX"
      },
      "execution_count": null,
      "outputs": []
    },
    {
      "cell_type": "markdown",
      "source": [
        "##Create Plots"
      ],
      "metadata": {
        "id": "WFvBLxkk7JxS"
      }
    },
    {
      "cell_type": "code",
      "source": [
        "plt.scatter(DataCut['DateTime'], DataCut['S1'])"
      ],
      "metadata": {
        "id": "k72X7Dkg7Ili"
      },
      "execution_count": null,
      "outputs": []
    },
    {
      "cell_type": "code",
      "source": [
        "plt.hist(DataCut['S1'])"
      ],
      "metadata": {
        "id": "SKWWeVbH7-Rk"
      },
      "execution_count": null,
      "outputs": []
    },
    {
      "cell_type": "code",
      "source": [
        "S1=[]\n",
        "for i in DataCut['S1']:\n",
        "  if i!=None:\n",
        "    S1.append(i)\n"
      ],
      "metadata": {
        "id": "-E-T-Q1F7dlx"
      },
      "execution_count": null,
      "outputs": []
    },
    {
      "cell_type": "code",
      "source": [
        "plt.hist(S1)"
      ],
      "metadata": {
        "id": "lZolRPhx8LrY"
      },
      "execution_count": null,
      "outputs": []
    },
    {
      "cell_type": "markdown",
      "source": [
        "## Shrink Data"
      ],
      "metadata": {
        "id": "b0KZvgce9wOj"
      }
    },
    {
      "cell_type": "code",
      "source": [
        "DataCutCleanCut={'DateTime':[],'S1':[],'Temp1':[] }\n",
        "\n",
        "for i in range(len(DataCut['DateTime'])):\n",
        "  if DataCut['DateTime'][i]!=None and DataCut['S1'][i]!=None and DataCut['Temp1'][i]!=None:\n",
        "    DataCutCleanCut['DateTime'].append(DataCut['DateTime'][i])\n",
        "    DataCutCleanCut['S1'].append(DataCut['S1'][i])\n",
        "    DataCutCleanCut['Temp1'].append(DataCut['Temp1'][i])\n",
        "\n"
      ],
      "metadata": {
        "id": "nB-lTNnw7uG4"
      },
      "execution_count": null,
      "outputs": []
    },
    {
      "cell_type": "code",
      "source": [
        "for i in DataCutCleanCut:\n",
        "  print(i)"
      ],
      "metadata": {
        "id": "Ccm7j4K79Ta_"
      },
      "execution_count": null,
      "outputs": []
    },
    {
      "cell_type": "code",
      "source": [
        "len(DataCutCleanCut['DateTime'])"
      ],
      "metadata": {
        "id": "FFq8NfUW9obk"
      },
      "execution_count": null,
      "outputs": []
    },
    {
      "cell_type": "markdown",
      "source": [
        "## Moving Stats"
      ],
      "metadata": {
        "id": "YvD64qyU7CBj"
      }
    },
    {
      "cell_type": "code",
      "source": [
        "Month=list(range(1,13))\n",
        "\n",
        "print(Month)"
      ],
      "metadata": {
        "id": "V3UMgAi46vJ_"
      },
      "execution_count": null,
      "outputs": []
    },
    {
      "cell_type": "code",
      "source": [
        "DataGrouped={'Month':Month, 'S1':[[] for i in range(12)], 'Temp1':[[] for i in range(12)]}"
      ],
      "metadata": {
        "id": "pwbPNm68_DOn"
      },
      "execution_count": null,
      "outputs": []
    },
    {
      "cell_type": "code",
      "source": [
        "for index in range(len(DataCutCleanCut['DateTime'])):\n",
        "  #print(index)\n",
        "  for m in Month:\n",
        "   #print(m)\n",
        "   if DataCutCleanCut['DateTime'][index].month==m:\n",
        "     #print(m)\n",
        "     DataGrouped['S1'][m-1].append(DataCutCleanCut['S1'][index])\n",
        "     DataGrouped['Temp1'][m-1].append(DataCutCleanCut['Temp1'][index])\n",
        "     break"
      ],
      "metadata": {
        "id": "YKNNK-lv-kPr"
      },
      "execution_count": null,
      "outputs": []
    },
    {
      "cell_type": "code",
      "source": [
        "len(DataGrouped['S1'])"
      ],
      "metadata": {
        "id": "oHvQku0aA8m-"
      },
      "execution_count": null,
      "outputs": []
    },
    {
      "cell_type": "code",
      "source": [
        "len(DataGrouped['S1'][0])"
      ],
      "metadata": {
        "id": "_BOGrc0FBCQ7"
      },
      "execution_count": null,
      "outputs": []
    },
    {
      "cell_type": "code",
      "source": [
        "len(DataGrouped['S1'][11])"
      ],
      "metadata": {
        "id": "WIa_05zeBEYK"
      },
      "execution_count": null,
      "outputs": []
    },
    {
      "cell_type": "code",
      "source": [
        "Stats={'Month':Month, 'S1_AVG':[], 'Temp1_Max':[], 'Count':[]}"
      ],
      "metadata": {
        "id": "1SUhGD9f9301"
      },
      "execution_count": null,
      "outputs": []
    },
    {
      "cell_type": "code",
      "source": [
        "for i in range(12):\n",
        "  Stats['S1_AVG']=sum(DataGrouped[])"
      ],
      "metadata": {
        "id": "i79v7qdrAbWT"
      },
      "execution_count": null,
      "outputs": []
    },
    {
      "cell_type": "code",
      "source": [
        "#Complete the code!\n",
        "\n",
        "\n",
        "\n",
        "\n",
        "\n"
      ],
      "metadata": {
        "id": "rcJxvJquCb9O"
      },
      "execution_count": null,
      "outputs": []
    },
    {
      "cell_type": "markdown",
      "source": [
        "#Pandas Verification"
      ],
      "metadata": {
        "id": "kx9M69A6CXi3"
      }
    },
    {
      "cell_type": "code",
      "source": [
        "df_RAW=pd.read_csv('/content/AI_030_JM_Data_All.csv')"
      ],
      "metadata": {
        "id": "Csb6h1V5wPU-"
      },
      "execution_count": null,
      "outputs": []
    },
    {
      "cell_type": "code",
      "source": [
        "df_RAW"
      ],
      "metadata": {
        "id": "dKqBpA97wxQb"
      },
      "execution_count": null,
      "outputs": []
    },
    {
      "cell_type": "code",
      "source": [
        "list(df_RAW.columns)"
      ],
      "metadata": {
        "id": "5r-pYGT8Ltz2"
      },
      "execution_count": null,
      "outputs": []
    },
    {
      "cell_type": "code",
      "source": [
        "df_RAW.index"
      ],
      "metadata": {
        "id": "sw9tXkubMJG9"
      },
      "execution_count": null,
      "outputs": []
    },
    {
      "cell_type": "code",
      "source": [
        "df_RAW.info(verbose=True)#use verbose to show all columns"
      ],
      "metadata": {
        "id": "AssV4TKOxLMl"
      },
      "execution_count": null,
      "outputs": []
    },
    {
      "cell_type": "code",
      "source": [
        "df_RAW.describe()"
      ],
      "metadata": {
        "id": "bP51RBAGxtyl"
      },
      "execution_count": null,
      "outputs": []
    },
    {
      "cell_type": "code",
      "source": [
        "df_RAW.columns[0:25]"
      ],
      "metadata": {
        "id": "0gK0BEeIrJPl"
      },
      "execution_count": null,
      "outputs": []
    },
    {
      "cell_type": "code",
      "source": [
        "df=df_RAW[df_RAW.columns[0:25]].copy()\n",
        "df.tail(6)"
      ],
      "metadata": {
        "id": "YN-eI2nhx3Qh"
      },
      "execution_count": null,
      "outputs": []
    },
    {
      "cell_type": "code",
      "source": [
        "df.drop(df.columns[1:11],axis=1).head()"
      ],
      "metadata": {
        "id": "1dTbkenn1mep"
      },
      "execution_count": null,
      "outputs": []
    },
    {
      "cell_type": "code",
      "source": [
        "df=df.drop(df.columns[1:11],axis=1)\n",
        "df"
      ],
      "metadata": {
        "id": "hL2eAdPH2iF4"
      },
      "execution_count": null,
      "outputs": []
    },
    {
      "cell_type": "code",
      "source": [
        "['DateTime']+['Sensor'+str(i) for i in range(7)]+['Temperature'+str(i) for i in range(7)]"
      ],
      "metadata": {
        "id": "HyGrr9wHwf_o"
      },
      "execution_count": null,
      "outputs": []
    },
    {
      "cell_type": "code",
      "source": [
        "df.columns=['DateTime']+['Sensor'+str(i) for i in range(7)]+['Temperature'+str(i) for i in range(7)]"
      ],
      "metadata": {
        "id": "R7w-S201Kpeu"
      },
      "execution_count": null,
      "outputs": []
    },
    {
      "cell_type": "code",
      "source": [
        "df.head()"
      ],
      "metadata": {
        "id": "lKXO2H8rLuum"
      },
      "execution_count": null,
      "outputs": []
    },
    {
      "cell_type": "markdown",
      "source": [
        "### Parse Date Time - Time series"
      ],
      "metadata": {
        "id": "YnAijcj-3T4g"
      }
    },
    {
      "cell_type": "code",
      "source": [
        "df.info()"
      ],
      "metadata": {
        "id": "lkmcLPq93XTW"
      },
      "execution_count": null,
      "outputs": []
    },
    {
      "cell_type": "code",
      "source": [
        "df['DateTime']"
      ],
      "metadata": {
        "id": "d1uf6I16L5Q5"
      },
      "execution_count": null,
      "outputs": []
    },
    {
      "cell_type": "code",
      "source": [
        "pd.to_datetime(df['DateTime'])"
      ],
      "metadata": {
        "id": "9rssLDic3oj8"
      },
      "execution_count": null,
      "outputs": []
    },
    {
      "cell_type": "code",
      "source": [
        "dfc=df.copy()\n",
        "df['DateTime']=pd.to_datetime(df['DateTime'])"
      ],
      "metadata": {
        "id": "EPh-j0Bg4N1L"
      },
      "execution_count": null,
      "outputs": []
    },
    {
      "cell_type": "code",
      "source": [
        "df.info()"
      ],
      "metadata": {
        "id": "B-wkbdfO4VrF"
      },
      "execution_count": null,
      "outputs": []
    },
    {
      "cell_type": "code",
      "source": [
        "dfc.info()"
      ],
      "metadata": {
        "id": "kjI4wIDAIwAp"
      },
      "execution_count": null,
      "outputs": []
    },
    {
      "cell_type": "code",
      "source": [
        "dfc['DateTime']"
      ],
      "metadata": {
        "id": "lvDpA8M45XFs"
      },
      "execution_count": null,
      "outputs": []
    },
    {
      "cell_type": "code",
      "source": [
        "pd.to_datetime(dfc['DateTime'], format='%m/%d/%Y %H:%M')"
      ],
      "metadata": {
        "id": "8gCIVvGXMtcj"
      },
      "execution_count": null,
      "outputs": []
    },
    {
      "cell_type": "markdown",
      "source": [
        "<font color='magenta[link text](https://)'>Where should I get the formatting?!</font><br>\n",
        "https://docs.python.org/3/library/datetime.html"
      ],
      "metadata": {
        "id": "e59F6doJ44v_"
      }
    },
    {
      "cell_type": "code",
      "source": [
        "df.info()"
      ],
      "metadata": {
        "id": "xlhmyg56zD1b"
      },
      "execution_count": null,
      "outputs": []
    },
    {
      "cell_type": "code",
      "source": [
        "df['DateTime'].dt.year#year,month,day,hour,minute,second"
      ],
      "metadata": {
        "id": "xJx15vYxNhZ3"
      },
      "execution_count": null,
      "outputs": []
    },
    {
      "cell_type": "code",
      "source": [
        "df.tail()"
      ],
      "metadata": {
        "id": "dQDesoQXzTrT"
      },
      "execution_count": null,
      "outputs": []
    },
    {
      "cell_type": "code",
      "source": [
        "df[(df['DateTime'].dt.minute==00) | (df['DateTime'].dt.minute==30)]"
      ],
      "metadata": {
        "id": "XNitsCGtNlU0"
      },
      "execution_count": null,
      "outputs": []
    },
    {
      "cell_type": "markdown",
      "source": [
        "## Pre-Processing"
      ],
      "metadata": {
        "id": "8Tt4f-DZPEoj"
      }
    },
    {
      "cell_type": "code",
      "source": [
        "None\n",
        "np.nan\n",
        "pd.NA"
      ],
      "metadata": {
        "id": "TGHNcPV81246"
      },
      "execution_count": null,
      "outputs": []
    },
    {
      "cell_type": "markdown",
      "source": [
        "### Gap in Data\n",
        "Empty cell! <br>\n",
        "*   Python: None\n",
        "*   Numpy: NaN (np.nan)\n",
        "*  Pandas: NA (pd.NA)\n",
        "*   SQL: NULL\n",
        "\n"
      ],
      "metadata": {
        "id": "o6uSopx7PJQF"
      }
    },
    {
      "cell_type": "code",
      "source": [
        "df.head()"
      ],
      "metadata": {
        "id": "lfyyc6_-PxSy"
      },
      "execution_count": null,
      "outputs": []
    },
    {
      "cell_type": "code",
      "source": [
        "df.info()"
      ],
      "metadata": {
        "id": "9J59RKLNQLhY"
      },
      "execution_count": null,
      "outputs": []
    },
    {
      "cell_type": "code",
      "source": [
        "df.notnull()#notnull"
      ],
      "metadata": {
        "id": "-d7ttvDOQCNd"
      },
      "execution_count": null,
      "outputs": []
    },
    {
      "cell_type": "markdown",
      "source": [
        "####Treat outliers like Gaps?!\n",
        "Only outliers that are like NaN"
      ],
      "metadata": {
        "id": "KRx0SD0YOqGq"
      }
    },
    {
      "cell_type": "code",
      "source": [
        "df[df['Sensor1'].notnull()]"
      ],
      "metadata": {
        "id": "Uy10dGPSPBDs"
      },
      "execution_count": null,
      "outputs": []
    },
    {
      "cell_type": "code",
      "source": [
        "df.replace(-99999,None).head(10)"
      ],
      "metadata": {
        "id": "7pAMrt2VPgFw"
      },
      "execution_count": null,
      "outputs": []
    },
    {
      "cell_type": "code",
      "source": [
        "df=df.replace(-99999,None)\n",
        "df"
      ],
      "metadata": {
        "id": "9Q3dwm--Y3zR"
      },
      "execution_count": null,
      "outputs": []
    },
    {
      "cell_type": "code",
      "source": [
        "df['Temperature0'].min()"
      ],
      "metadata": {
        "id": "d297wcMif_6n"
      },
      "execution_count": null,
      "outputs": []
    },
    {
      "cell_type": "code",
      "source": [
        "df[df['Temperature1']==-99.99]"
      ],
      "metadata": {
        "id": "ubm7sIidgPFn"
      },
      "execution_count": null,
      "outputs": []
    },
    {
      "cell_type": "code",
      "source": [
        "df=df.replace(-99.99,None)"
      ],
      "metadata": {
        "id": "BL4tdJjGcd7g"
      },
      "execution_count": null,
      "outputs": []
    },
    {
      "cell_type": "code",
      "source": [
        "df"
      ],
      "metadata": {
        "id": "xQ4C-RPkdiaQ"
      },
      "execution_count": null,
      "outputs": []
    },
    {
      "cell_type": "markdown",
      "source": [
        "#### Remove the records (rows) with NaN Values"
      ],
      "metadata": {
        "id": "JdiMMTIwXGXw"
      }
    },
    {
      "cell_type": "code",
      "source": [
        "df"
      ],
      "metadata": {
        "id": "PWjJ9v7F6kLT"
      },
      "execution_count": null,
      "outputs": []
    },
    {
      "cell_type": "code",
      "source": [
        "df.dropna(thresh=5,subset=['Sensor'+str(i) for i in range(7)])"
      ],
      "metadata": {
        "id": "1145vOYASR41"
      },
      "execution_count": null,
      "outputs": []
    },
    {
      "cell_type": "code",
      "source": [
        "df.dropna(axis=1, thresh=100)#remove the columns"
      ],
      "metadata": {
        "id": "-WVx-65E9uXF"
      },
      "execution_count": null,
      "outputs": []
    },
    {
      "cell_type": "code",
      "source": [
        "df=df.dropna(thresh=5,subset=['Sensor'+str(i) for i in range(7)])"
      ],
      "metadata": {
        "id": "saDVGToIZnz5"
      },
      "execution_count": null,
      "outputs": []
    },
    {
      "cell_type": "code",
      "source": [
        "df"
      ],
      "metadata": {
        "id": "ACRqGo-pZq3g"
      },
      "execution_count": null,
      "outputs": []
    },
    {
      "cell_type": "code",
      "source": [
        "df=df.dropna(thresh=3,subset=['Temperature'+str(i) for i in range(7)])\n",
        "df"
      ],
      "metadata": {
        "id": "DNntb9dDdsch"
      },
      "execution_count": null,
      "outputs": []
    },
    {
      "cell_type": "markdown",
      "source": [
        "#### Fill the gap"
      ],
      "metadata": {
        "id": "K-ANxHH1Xb-d"
      }
    },
    {
      "cell_type": "code",
      "source": [
        "df.fillna(0)"
      ],
      "metadata": {
        "id": "gbOPfP1uXu3d"
      },
      "execution_count": null,
      "outputs": []
    },
    {
      "cell_type": "code",
      "source": [
        "df.fillna(df.mean()) #What about mean?"
      ],
      "metadata": {
        "id": "U_q9B9IRYDki"
      },
      "execution_count": null,
      "outputs": []
    },
    {
      "cell_type": "code",
      "source": [
        "#df['Sensor2'].loc[607]=None\n",
        "#df\n",
        "df.interpolate(method='linear') #Remember Axis is zero by default"
      ],
      "metadata": {
        "id": "58G3f3BcYVvu"
      },
      "execution_count": null,
      "outputs": []
    },
    {
      "cell_type": "code",
      "source": [
        "df=df.interpolate(method='linear') #Remember Axis is zero by default\n",
        "df=df.dropna(thresh=7,subset=['Sensor'+str(i) for i in range(7)])\n",
        "df"
      ],
      "metadata": {
        "id": "p6kVlTOTamAa"
      },
      "execution_count": null,
      "outputs": []
    },
    {
      "cell_type": "markdown",
      "source": [
        "### Combine Columns (Series)\n",
        "In this case, all thermistors are so close so we want to use the mean of them all"
      ],
      "metadata": {
        "id": "dwdm_NSYbAux"
      }
    },
    {
      "cell_type": "code",
      "source": [
        "df"
      ],
      "metadata": {
        "id": "0yzvo1ub_w1i"
      },
      "execution_count": null,
      "outputs": []
    },
    {
      "cell_type": "code",
      "source": [
        "df.columns[-7:]"
      ],
      "metadata": {
        "id": "QfxwUVxA9oyq"
      },
      "execution_count": null,
      "outputs": []
    },
    {
      "cell_type": "code",
      "source": [
        "df[df.columns[-7:]].mean(axis=1)"
      ],
      "metadata": {
        "id": "6YSXUN8PbRSo"
      },
      "execution_count": null,
      "outputs": []
    },
    {
      "cell_type": "code",
      "source": [
        "df['Temperature']=df[df.columns[-7:]].mean(axis=1)"
      ],
      "metadata": {
        "id": "dq0HYLdyeOFw"
      },
      "execution_count": null,
      "outputs": []
    },
    {
      "cell_type": "code",
      "source": [
        "df.columns"
      ],
      "metadata": {
        "id": "ra34aWHGAgeB"
      },
      "execution_count": null,
      "outputs": []
    },
    {
      "cell_type": "code",
      "source": [
        "df.columns[-8:-1]"
      ],
      "metadata": {
        "id": "55WtlBCCAnqD"
      },
      "execution_count": null,
      "outputs": []
    },
    {
      "cell_type": "code",
      "source": [
        "df=df.drop(df.columns[-8:-1],axis=1)\n",
        "df"
      ],
      "metadata": {
        "id": "2f-MWdRReOMv"
      },
      "execution_count": null,
      "outputs": []
    },
    {
      "cell_type": "markdown",
      "source": [
        "###Re-Sampling\n",
        "Read more: https://pandas.pydata.org/docs/reference/api/pandas.DataFrame.resample.html"
      ],
      "metadata": {
        "id": "zLSFhKmj_3Wf"
      }
    },
    {
      "cell_type": "markdown",
      "source": [
        "##### Dont confuse it with sampling!!"
      ],
      "metadata": {
        "id": "h0oX3-ct-6B8"
      }
    },
    {
      "cell_type": "code",
      "source": [
        "df.sample(10) #randomly select 10 records\n",
        "#df.sample(frac=0.1) #or randomly select some percentage of data"
      ],
      "metadata": {
        "id": "K-YX8S7w_G1d"
      },
      "execution_count": null,
      "outputs": []
    },
    {
      "cell_type": "code",
      "source": [
        "df.sample(frac=0.1)"
      ],
      "metadata": {
        "id": "5tRgx0GB_PCu"
      },
      "execution_count": null,
      "outputs": []
    },
    {
      "cell_type": "code",
      "source": [
        "df.resample('30min',on='DateTime').max()#min, y,d\n"
      ],
      "metadata": {
        "id": "1UtArxK5_1xA"
      },
      "execution_count": null,
      "outputs": []
    },
    {
      "cell_type": "code",
      "source": [
        "df.set_index('DateTime').resample('30min').mean()"
      ],
      "metadata": {
        "id": "NrXaCA60B9ZZ"
      },
      "execution_count": null,
      "outputs": []
    },
    {
      "cell_type": "code",
      "source": [
        "df_Weekly=df.resample('7d',on='DateTime').mean()\n",
        "df_Weekly"
      ],
      "metadata": {
        "id": "2xdvIbFQiFlG"
      },
      "execution_count": null,
      "outputs": []
    },
    {
      "cell_type": "code",
      "source": [
        "df_Weekly.drop(['Temperature','Sensor6'],axis=1).plot()"
      ],
      "metadata": {
        "id": "XIpOcvsHiOLv"
      },
      "execution_count": null,
      "outputs": []
    },
    {
      "cell_type": "markdown",
      "source": [
        "### Query - Data Grouping/Selection"
      ],
      "metadata": {
        "id": "bAjgPlGfIWkA"
      }
    },
    {
      "cell_type": "code",
      "source": [
        "df"
      ],
      "metadata": {
        "id": "o01Th2bCC7Ev"
      },
      "execution_count": null,
      "outputs": []
    },
    {
      "cell_type": "code",
      "source": [
        "df.groupby(by=df['DateTime'].dt.month).mean()"
      ],
      "metadata": {
        "id": "I7Do18T9GO-1"
      },
      "execution_count": null,
      "outputs": []
    },
    {
      "cell_type": "code",
      "source": [
        "df.groupby(by=[df['DateTime'].dt.year,df['DateTime'].dt.month] ).mean().plot()"
      ],
      "metadata": {
        "id": "bsMOLQ5iDarh"
      },
      "execution_count": null,
      "outputs": []
    },
    {
      "cell_type": "code",
      "source": [
        "df.info()"
      ],
      "metadata": {
        "id": "vXh9_DPXPQgK"
      },
      "execution_count": null,
      "outputs": []
    }
  ]
}