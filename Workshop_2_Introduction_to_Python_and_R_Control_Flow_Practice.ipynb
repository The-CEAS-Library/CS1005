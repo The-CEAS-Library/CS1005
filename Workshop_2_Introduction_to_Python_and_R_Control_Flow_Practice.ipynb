{
  "cells": [
    {
      "cell_type": "markdown",
      "source": [
        "# **Introduction to Python and R - Control Flow Practice**"
      ],
      "metadata": {
        "id": "I-yzpr1ncpy7"
      }
    },
    {
      "cell_type": "markdown",
      "metadata": {
        "id": "duKyh-Svhec6"
      },
      "source": [
        "##**Objectives**\n",
        "\n",
        " * Review of Data Types; Dictionary and Set\n",
        " * Control Flow Practice; Combining Conditional Statements and loops to solve complex problems\n",
        " * Functions; Encapsule your code\n",
        "  \n",
        "  \n"
      ]
    },
    {
      "cell_type": "markdown",
      "source": [
        "## **Data types**\n",
        "Data Types are implied. They do not have to be declared\n",
        "* Numeric types - int, float, complex `a=10`, `b=10.5`\n",
        "* Boolean - `True`, `False`\n",
        "* String - `a=\"hello\"`\n",
        "* List - `lst=[1,2,3,'a']`\n",
        "* Tuple - `tp=(1,3,4,'a')`\n",
        "* Set -`{1,2,'a'}`\n",
        "* Dictionary is dictionary! - `{1:\"Sam\", 2:[1,2,3],\"Sam\":100}`\n"
      ],
      "metadata": {
        "id": "vOsKX_q_jl_n"
      }
    },
    {
      "cell_type": "markdown",
      "metadata": {
        "id": "RPMw3aqMhedG"
      },
      "source": [
        "## **Control Flow**\n"
      ]
    },
    {
      "cell_type": "markdown",
      "metadata": {
        "id": "PVWBoBM6hedZ"
      },
      "source": [
        "#### **If..elif..else blocks**\n",
        "\n",
        "* **' if '** block may be followed by one or more optional **' elif '** (Else if) blocks and one optional **' else '** block\n",
        "* The **' if '** block and **' elif '** blocks must have conditions attached. The **' else '** block has no conditions attached\n",
        "* There can be only one **' if '** block and one **' else '** block. There can be more than one **' elif '** blocks. \n",
        "* If the Condition or Boolean expression under the **' if '** block is **False**, then the condition of the next **' elif '** block is examined. If **True**, the statement(s) 2 are executed. If **False**, the next **' elif '** block is examined until the statements under the **' else '** block are executed if an **' else '** block exists.  \n",
        "\n",
        "***if   < condition >:***\n",
        "<br>\n",
        "$\\;\\;\\;\\;\\;\\;$***statement(s) 1***\n",
        "<br>\n",
        "***elif   < condition >:***\n",
        "<br>\n",
        "$\\;\\;\\;\\;\\;\\;$***statement(s) 2***\n",
        "<br>\n",
        "***elif   < condition >:***\n",
        "<br>\n",
        "$\\;\\;\\;\\;\\;\\;$***statement(s) 3***\n",
        "<br>\n",
        "***else:***\n",
        "<br>\n",
        "$\\;\\;\\;\\;\\;\\;$***statement(s) 4***"
      ]
    },
    {
      "cell_type": "markdown",
      "source": [
        "**<h5><center>Note</center></h5>**\n",
        "\n",
        "**Python Blocks**\n",
        "* Every Python block like the **' if '** block is marked by a colon **' : '**\n",
        "* All the statements under the block must be indented under the block\n",
        "* Indentation must be consistent for each block and the whole python code\n"
      ],
      "metadata": {
        "id": "AYSM0zjLg_4V"
      }
    },
    {
      "cell_type": "markdown",
      "source": [
        "##### **Problem 1**\n",
        "\n",
        "1. Replace the numbers in the given list `lst` and create a new list named `new_lst`:\n",
        "\n",
        "*   Replace numbers that are multiples of 3 with\"Fizz\"\n",
        "*   Replace numbers that are multiplies of 5 with \"Buzz\"\n",
        "*   Replace numbers that are multiplies of 3 and 5 with \"FizzBuzz\"\n",
        "\n",
        "Example: \n",
        "\n",
        "`lst = [1, 2, 3, 4, 5, ...... 15]`\n",
        "\n",
        "`new_lst = [1, 2, 'Fizz', 4, 'Buzz', ...... 'FizzBuzz']`"
      ],
      "metadata": {
        "id": "nOQkeAlIZJqd"
      }
    },
    {
      "cell_type": "code",
      "source": [
        "lst = list(range(1,51))\n",
        "\n",
        "\n",
        "print(new_lst)"
      ],
      "metadata": {
        "id": "oXM2C3LgZ8zR"
      },
      "execution_count": null,
      "outputs": []
    },
    {
      "cell_type": "markdown",
      "source": [
        "###Iterations - Loops"
      ],
      "metadata": {
        "id": "cD8SBXGKJ51S"
      }
    },
    {
      "cell_type": "markdown",
      "metadata": {
        "id": "8Y5n5oTQheda"
      },
      "source": [
        "#### **While Loop**\n",
        "* **while** loop will execute as long as the looping condition or Boolean expression is **True**\n",
        "* The loop is exited when the looping condition or Boolean expression becomes **False**\n",
        "\n",
        "  ***while   < condition >:***<br>\n",
        "  $\\;\\;\\;\\;\\;\\;$***statement(s)*** \n",
        "\n",
        "#### **Infinite loop**\n",
        "Occurs when\n",
        "* Loop condition cannot possibly be False example ***while 1 != 2:*** or ***while True:***\n",
        "* Logic of the loop prevents the loop condition from becoming false\n",
        "  \n",
        " ***count = 10***<br>\n",
        " ***while count>0:***<br>\n",
        " $\\;\\;\\;\\;\\;\\;$***count += 1***\n",
        "\n",
        "#### **Break Statement**\n",
        "**break** - Used to exit the current loop"
      ]
    },
    {
      "cell_type": "markdown",
      "metadata": {
        "id": "9mC-jNT0TlGp"
      },
      "source": [
        "##### **Problem 2 - while/Break/Conditional Statemetns** \n",
        "\n",
        "The Fibonacci sequence starts with the numbers 1, 1. Each subsequent number in the sequence is the sum of the two preceding numbers. For example, the third number in the sequence is 1+1=2, and the fourth number is 1+2=3, and so on.\n",
        "\n",
        "This is how the first 6 elements of the fibonacci number look like:\n",
        "\n",
        "`fib_list=[1, 1, 2, 3, 5, 8]`\n",
        "\n",
        "Take a number `n` from a user and write a script that create a list named `fib_list` that contains the <font color=red>first `r` elements</font> of the Fibonacci numbers; `r` being the largest number less than `n` which is devisible by `17`\n",
        "\n",
        "\n"
      ]
    },
    {
      "cell_type": "code",
      "execution_count": null,
      "metadata": {
        "id": "1MoaCPAXTlGp",
        "colab": {
          "base_uri": "https://localhost:8080/"
        },
        "outputId": "367e139e-80ef-404f-8338-d3795f0c7041"
      },
      "outputs": [
        {
          "output_type": "stream",
          "name": "stdout",
          "text": [
            "[1, 1, 2, 3, 5, 8, 13, 21, 34, 55, 89, 144, 233, 377, 610, 987, 1597, 2584, 4181, 6765]\n"
          ]
        }
      ],
      "source": [
        "# Begin solution\n",
        "fib_list = [1,1]\n",
        "\n",
        "\n",
        "\n",
        "print(fib_list)\n",
        "# End solution"
      ]
    },
    {
      "cell_type": "markdown",
      "metadata": {
        "id": "npou2W_ihedb"
      },
      "source": [
        "#### **For Loop**\n",
        "* Each item in the sequence is assigned to the iterating variable and the statements are executed for each item until the entire sequence is exhausted.\n",
        "  \n",
        "  ***for < iterating variable > in < sequence > :***<br>\n",
        "  $\\;\\;\\;\\;\\;\\;$***statement(s)*** "
      ]
    },
    {
      "cell_type": "markdown",
      "source": [
        "##### **Nested Loops**\n",
        "\n",
        "Use **for** and **while** loops to create a loop inside a loop"
      ],
      "metadata": {
        "id": "HLWaFTbE5gJJ"
      }
    },
    {
      "cell_type": "code",
      "source": [
        "# A simple nested loop\n",
        "\n",
        "for i in range(5): # OUTER LOOP\n",
        "  for j in range(5): # INNER LOOP\n",
        "    print(i, j)"
      ],
      "metadata": {
        "id": "J06Rwpyx59DZ"
      },
      "execution_count": null,
      "outputs": []
    },
    {
      "cell_type": "code",
      "source": [
        "list1 = [1,2,3,4,5]\n",
        "list2 = [6,7,8,9,10]\n",
        "list3 = []\n",
        "\n",
        "for i in range(len(list1)):\n",
        "  for j in range(len(list2)):\n",
        "    list3.append(list2[j] * list1[i])\n",
        "    \n",
        "print(list3)"
      ],
      "metadata": {
        "id": "pafzj5XD6ptB"
      },
      "execution_count": null,
      "outputs": []
    },
    {
      "cell_type": "markdown",
      "metadata": {
        "id": "4kML9sL2hedf"
      },
      "source": [
        "### **Functions**\n",
        "* A block of code, organized to perform an action and to be reusable\n",
        "* **System-defined** functions - Built-in functions like **print**, **len**, **range**, **input**, etc. These are already defined once you install Python\n",
        "* **User-defined** functions - You can also create your own functions\n",
        "\n",
        "### **Defining a User Defined Function**\n",
        "* Begins with keyword **'def'** followed by the function name and parentheses **( )**\n",
        "* Any input parameter/arguments should be placed within these parentheses. Multiple inputs are separated by commas **( , )** \n",
        "* Code block starts with colon (**:**) and is indented\n",
        "* **'return'** statement is optional and it exits a function\n",
        "* **'return expression'** statement passes back an expression or value to the caller of the function. \n",
        "* A fuction returns multiple values or objects as a list\n",
        "\n",
        "***def function name ( [ parameter[s] ] ) :***\n",
        "<br>\n",
        "$\\;\\;\\;\\;\\;\\;$***function body***\n",
        "<br>\n",
        "$\\;\\;\\;\\;\\;\\;$***return [Expression]***\n"
      ]
    },
    {
      "cell_type": "code",
      "execution_count": null,
      "metadata": {
        "id": "_0x0k0GChedg"
      },
      "outputs": [],
      "source": [
        "def printme(str):\n",
        "    #This prints a string passed into the function\n",
        "    print(str)"
      ]
    },
    {
      "cell_type": "code",
      "source": [
        "printme(\"Hello\")"
      ],
      "metadata": {
        "id": "8Jdc5fINM6k4",
        "outputId": "07c91580-d7b1-4a84-b1d1-9ad9e9daaf7d",
        "colab": {
          "base_uri": "https://localhost:8080/"
        }
      },
      "execution_count": null,
      "outputs": [
        {
          "output_type": "stream",
          "name": "stdout",
          "text": [
            "Hello\n"
          ]
        }
      ]
    },
    {
      "cell_type": "code",
      "source": [
        "v1=printme(\"Hello\")\n",
        "print(v1)"
      ],
      "metadata": {
        "id": "iskWx3XKM-f4",
        "outputId": "9b16ad1f-49f0-4287-eebf-245a30a18ecd",
        "colab": {
          "base_uri": "https://localhost:8080/"
        }
      },
      "execution_count": null,
      "outputs": [
        {
          "output_type": "stream",
          "name": "stdout",
          "text": [
            "Hello\n",
            "None\n"
          ]
        }
      ]
    },
    {
      "cell_type": "markdown",
      "source": [
        "<font color=red> Dont write a function without return statement!"
      ],
      "metadata": {
        "id": "qIBy9Pv7Mymw"
      }
    },
    {
      "cell_type": "code",
      "execution_count": null,
      "metadata": {
        "id": "Y147zYtzNGIe"
      },
      "outputs": [],
      "source": [
        "def giveme(str):\n",
        "    #This prints a string passed into the function\n",
        "    return(str)"
      ]
    },
    {
      "cell_type": "code",
      "source": [
        "giveme(\"Hello\")"
      ],
      "metadata": {
        "id": "sh3WU0mzNKyW",
        "outputId": "66d38a30-9454-4c65-d801-a6958335437a",
        "colab": {
          "base_uri": "https://localhost:8080/",
          "height": 35
        }
      },
      "execution_count": null,
      "outputs": [
        {
          "output_type": "execute_result",
          "data": {
            "text/plain": [
              "'Hello'"
            ],
            "application/vnd.google.colaboratory.intrinsic+json": {
              "type": "string"
            }
          },
          "metadata": {},
          "execution_count": 5
        }
      ]
    },
    {
      "cell_type": "code",
      "source": [
        "v1=giveme(\"Hello\")\n",
        "print(v1)"
      ],
      "metadata": {
        "id": "AOdq6jq7NNTl",
        "outputId": "550fb7fc-30e3-482d-b8ca-582a26f1737a",
        "colab": {
          "base_uri": "https://localhost:8080/"
        }
      },
      "execution_count": null,
      "outputs": [
        {
          "output_type": "stream",
          "name": "stdout",
          "text": [
            "Hello\n"
          ]
        }
      ]
    },
    {
      "cell_type": "markdown",
      "source": [
        "#### **Problem 3**\n",
        "\n",
        "Write a function called `is_ugly()` that takes an integer as an input and returns `True` if the number is ugly!\n",
        "\n",
        "Ugly number is a number that its factors <font color=red> limited to 2 or 3, or 5 </font>\n",
        "\n",
        "Look at the Examples below and the explanation so that you fully understand the problem: <br><br>\n",
        "\n",
        "`is_ugly(6)`\n",
        "\n",
        "Output: `True` <font color=red> Because 6 has only 2 and 3 as its factors<font>\n",
        "\n",
        "`is_ugly(14)`\n",
        "\n",
        "Output: `False` <font color=red> Because 14 has 7 as its factors and thats not acceptable<font>\n",
        "\n",
        "`is_ugly(30)` \n",
        "\n",
        "Output: `True` <font color=red> Because 30 has only 2, 3 and 5 as its factors<font>\n",
        "\n",
        "`is_ugly(21)`\n",
        "\n",
        "Output: `False` <font color=red> Because 21 has 7 as its factors and thats not acceptable<font>"
      ],
      "metadata": {
        "id": "5XwwK5krcYch"
      }
    },
    {
      "cell_type": "code",
      "source": [
        "def is_ugly(n):\n",
        "\n",
        "\n",
        "  return True"
      ],
      "metadata": {
        "id": "RX8fx0SjdrD1"
      },
      "execution_count": null,
      "outputs": []
    },
    {
      "cell_type": "code",
      "source": [
        "is_ugly()"
      ],
      "metadata": {
        "id": "s3FXX2KxDS8F"
      },
      "execution_count": null,
      "outputs": []
    },
    {
      "cell_type": "markdown",
      "source": [
        "##Workshop Assignment"
      ],
      "metadata": {
        "id": "0W9KzzQ-PX-o"
      }
    },
    {
      "cell_type": "markdown",
      "source": [
        "Create a function that analyzes a text and identifies the most frequently occurring words within the document. The function should generate a dictionary that contains only the top 5 repeating words as keys and their corresponding count as values."
      ],
      "metadata": {
        "id": "l1OcqBJsPgXg"
      }
    },
    {
      "cell_type": "code",
      "source": [
        "def Text_Analyzer(txt):\n",
        "\n",
        "\n",
        "\n",
        "\n",
        "\n",
        "\n"
      ],
      "metadata": {
        "id": "5Otu7zj0PXQQ"
      },
      "execution_count": null,
      "outputs": []
    },
    {
      "cell_type": "code",
      "source": [
        "Sample_Text=\"\"\"\n",
        "Becoming a professional programmer takes a combination of hard work, dedication, and a love for learning. Here are some steps you can take to become a professional programmer:\n",
        "\n",
        "Learn the basics of computer programming: \n",
        "\n",
        "1) Start by learning the basics of computer programming by taking courses or reading books on programming languages such as Python, Java, C++, and JavaScript. This will help you understand the fundamental concepts of programming and how to write code.\n",
        "\n",
        "2) Practice writing code: The more you practice writing code, the better you'll become. Start by building small projects such as simple games, web pages, or mobile apps, and gradually work your way up to more complex projects.\n",
        "\n",
        "3) Join online communities: Join online communities such as Stack Overflow, GitHub, or Reddit, where you can connect with other programmers and ask questions or share your work. This will help you learn from others and get feedback on your code.\n",
        "\n",
        "4) Attend meetups and conferences: Attend meetups and conferences in your local area or online to learn about new technologies, network with other programmers, and get inspiration for new projects.\n",
        "\n",
        "5) Build a portfolio: Build a portfolio of your work that showcases your skills and projects. This will help you demonstrate your abilities to potential employers and clients.\n",
        "\n",
        "6) Look for job opportunities: Once you feel confident in your skills, start looking for job opportunities. Apply for internships or entry-level positions to gain experience and learn from other professionals in the industry.\n",
        "\n",
        "7) Keep learning: The world of programming is constantly changing, so it's important to keep learning and updating your skills. Take courses, attend workshops, or read books on new technologies and programming languages to stay up-to-date with the latest trends.\n",
        "\n",
        "By following these steps, you can become a professional programmer and enjoy a rewarding career in the exciting and dynamic field of computer programming.\n",
        "\n",
        "\"\"\""
      ],
      "metadata": {
        "id": "1E-YWVABRfL_"
      },
      "execution_count": null,
      "outputs": []
    },
    {
      "cell_type": "code",
      "source": [
        "Text_Analyzer(Sample_Text)"
      ],
      "metadata": {
        "id": "ejTifQtdRaCQ"
      },
      "execution_count": null,
      "outputs": []
    },
    {
      "cell_type": "markdown",
      "metadata": {
        "id": "WsNIvHMOhedj"
      },
      "source": [
        "## **Resources**\n",
        "* CEAS Library Python resources - http://guides.libraries.uc.edu/python\n",
        "* Online links & tutorials\n",
        " * Python documentation - https://www.python.org/doc/\n",
        " * Python Programming wiki book - http://en.wikibooks.org/wiki/Python_Programming\n",
        " * Python tutorials - Udemy, Code academy, etc  "
      ]
    },
    {
      "cell_type": "markdown",
      "metadata": {
        "id": "SYV7br7ehedj"
      },
      "source": [
        "\n",
        "**<center>Thanks for attending the workshop !!**\n",
        "\n",
        "\n",
        "**<center>Your kind suggestions/feedbacks are more than welcome**"
      ]
    }
  ],
  "metadata": {
    "kernelspec": {
      "display_name": "Python 3",
      "language": "python",
      "name": "python3"
    },
    "language_info": {
      "codemirror_mode": {
        "name": "ipython",
        "version": 3
      },
      "file_extension": ".py",
      "mimetype": "text/x-python",
      "name": "python",
      "nbconvert_exporter": "python",
      "pygments_lexer": "ipython3",
      "version": "3.6.5"
    },
    "colab": {
      "provenance": []
    }
  },
  "nbformat": 4,
  "nbformat_minor": 0
}