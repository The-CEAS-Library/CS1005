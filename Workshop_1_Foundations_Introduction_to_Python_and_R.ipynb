{
  "cells": [
    {
      "cell_type": "markdown",
      "source": [
        "#**Introduction to Python and R - Workshop 1 - Foundation**"
      ],
      "metadata": {
        "id": "aDCHRHfwpM2C"
      }
    },
    {
      "cell_type": "markdown",
      "metadata": {
        "id": "kUGt4PYsNvIT"
      },
      "source": [
        "## **Objectives**\n",
        "\n",
        "\n",
        "* **Hands-on**\n",
        " * Syntax\n",
        " * Operators\n",
        " * Strings\n",
        " * Lists\n",
        " * Tuples\n",
        "\n"
      ]
    },
    {
      "cell_type": "markdown",
      "metadata": {
        "id": "WWyeRc02NvIY"
      },
      "source": [
        "## **Introduction**\n",
        "* Developed in early 90’s by **Guido Van Rossum**\n",
        "\n",
        "### **What is Python**\n",
        "* General purpose, \n",
        " * *High Level*\n",
        " * *Structured*\n",
        " * *Interpreted*\n",
        " * *Object-oriented Language*\n",
        "\n",
        "* Simple, Portable, Open source & Powerful\n",
        "\n",
        "### **Ways to run Python**\n",
        "* Local run - on personal PC\n",
        "* Web-based interactive computational environment like Jupyter Notebooks, Google Colaboratory, etc"
      ]
    },
    {
      "cell_type": "markdown",
      "metadata": {
        "id": "DMOn1SisNvIb"
      },
      "source": [
        "## **Syntax - Variables** \n",
        "\n",
        "* Stores a piece of data and gives it a specific name\n",
        "* Do not need to specify data type (No Declaration needed)\n",
        "* Equal sign **( = )** is used to assign values to variables"
      ]
    },
    {
      "cell_type": "code",
      "execution_count": null,
      "metadata": {
        "id": "ninjlkL2NvIc"
      },
      "outputs": [],
      "source": [
        "v = 98"
      ]
    },
    {
      "cell_type": "markdown",
      "metadata": {
        "id": "AoNKXlz0NvIe"
      },
      "source": [
        "**' v '** is the variable name\n",
        "<br>\n",
        "**' = '** is the assignment operator\n",
        "<br>\n",
        "**98** is the value\n",
        "\n",
        "#### **Variable names**\n",
        "* No spaces allowed (Use underscore or init caps, example - 'my_name' or 'myName')\n",
        "* No special symbols or characters like '\"@#%^&()-/\\* except the underscore '_'\n",
        "* Cannot begin with a number but may have a number within the variable name\n",
        "* The python community by convention begin variable names with small letters but caps are allowed anywhere else"
      ]
    },
    {
      "cell_type": "code",
      "execution_count": null,
      "metadata": {
        "id": "abBMzs3JNvIf"
      },
      "outputs": [],
      "source": [
        "my_name = 'John Smith'"
      ]
    },
    {
      "cell_type": "code",
      "execution_count": null,
      "metadata": {
        "collapsed": true,
        "id": "Ao1v72qCNvIf"
      },
      "outputs": [],
      "source": [
        "v_1 = 8\n",
        "v_2 = 9"
      ]
    },
    {
      "cell_type": "markdown",
      "metadata": {
        "id": "JJo-Ny6BNvIg"
      },
      "source": [
        "#### **Using a variable**\n",
        "To use a variable, just type out the variable name. \n",
        "<br>\n",
        "See examples below"
      ]
    },
    {
      "cell_type": "code",
      "execution_count": null,
      "metadata": {
        "collapsed": true,
        "id": "XfzGr3iWNvIh"
      },
      "outputs": [],
      "source": [
        "print(my_name)"
      ]
    },
    {
      "cell_type": "code",
      "execution_count": null,
      "metadata": {
        "collapsed": true,
        "id": "lm1IaWXwNvIh"
      },
      "outputs": [],
      "source": [
        "age = v_1 + v_2"
      ]
    },
    {
      "cell_type": "code",
      "execution_count": null,
      "metadata": {
        "collapsed": true,
        "id": "9MIrsq9zNvIi"
      },
      "outputs": [],
      "source": [
        "print ('I am', age, 'years old')"
      ]
    },
    {
      "cell_type": "markdown",
      "metadata": {
        "id": "qrNTpow2NvIi"
      },
      "source": [
        "**<center>Note:**\n",
        "\n",
        "**print** is a function that displays its arguments (inputs). It can take \n",
        "multiple arguments (inputs) separated by commas '**,**'.\n"
      ]
    },
    {
      "cell_type": "markdown",
      "source": [
        "## **Operators**"
      ],
      "metadata": {
        "id": "kXfKtQCHUsvx"
      }
    },
    {
      "cell_type": "markdown",
      "source": [
        "### **Assingment**\n",
        "\n",
        " * '**=**' is the assignment operator. Left operand is assigned with right operand<br>\n",
        " * '**+=**' is the increment operator. Adds right operand to left operand and assigns to the left operand<br>\n",
        " * '**-=**' is the decrement operator. Subtracts right operand from the left operand and assigns to the left operand<br>"
      ],
      "metadata": {
        "id": "UqmwDydHUxG0"
      }
    },
    {
      "cell_type": "markdown",
      "source": [
        "### **Comparison**\n",
        " * '**==**' equals\n",
        " * '**!=**' does not equal\n",
        " * '**<**' is less than\n",
        " * '**>**' is greater than\n",
        " * '**<=**' is less than or equal\n",
        " * '**>=**' is greater than or equal\n"
      ],
      "metadata": {
        "id": "bvelBHQ_VGLU"
      }
    },
    {
      "cell_type": "markdown",
      "source": [
        "### **Boolean or Logical**\n",
        "\n",
        "*  and \n",
        "*  or\n",
        "*  not\n",
        "\n"
      ],
      "metadata": {
        "id": "vHGdL9tyVIQM"
      }
    },
    {
      "cell_type": "markdown",
      "metadata": {
        "id": "ELDa2p8mNvIj"
      },
      "source": [
        "### **Arithmetic Operators**"
      ]
    },
    {
      "cell_type": "markdown",
      "metadata": {
        "id": "vZWS8PPxNvIj"
      },
      "source": [
        "#### **Addition ( + )**"
      ]
    },
    {
      "cell_type": "code",
      "execution_count": null,
      "metadata": {
        "collapsed": true,
        "id": "WhA3I9GpNvIj"
      },
      "outputs": [],
      "source": [
        "2+3"
      ]
    },
    {
      "cell_type": "markdown",
      "metadata": {
        "id": "rYURQKUTNvIj"
      },
      "source": [
        "#### **Subtraction ( - )**"
      ]
    },
    {
      "cell_type": "code",
      "execution_count": null,
      "metadata": {
        "collapsed": true,
        "id": "VeV0kiG9NvIj"
      },
      "outputs": [],
      "source": [
        "9-3"
      ]
    },
    {
      "cell_type": "markdown",
      "metadata": {
        "id": "VFPs8YiVNvIk"
      },
      "source": [
        "#### **Multiplication ( * )**"
      ]
    },
    {
      "cell_type": "code",
      "execution_count": null,
      "metadata": {
        "collapsed": true,
        "id": "B7y3sFErNvIk"
      },
      "outputs": [],
      "source": [
        "3*8"
      ]
    },
    {
      "cell_type": "markdown",
      "metadata": {
        "id": "i6VgPlE1NvIk"
      },
      "source": [
        "#### **Division( / )**"
      ]
    },
    {
      "cell_type": "code",
      "execution_count": null,
      "metadata": {
        "collapsed": true,
        "id": "7IeEAKSqNvIk"
      },
      "outputs": [],
      "source": [
        "3/2"
      ]
    },
    {
      "cell_type": "markdown",
      "metadata": {
        "id": "_3KMOMXtNvIl"
      },
      "source": [
        "#### **Floor Division ( // )**"
      ]
    },
    {
      "cell_type": "code",
      "execution_count": null,
      "metadata": {
        "collapsed": true,
        "id": "-eskamGSNvIm"
      },
      "outputs": [],
      "source": [
        "3//2"
      ]
    },
    {
      "cell_type": "markdown",
      "metadata": {
        "id": "T_EqACQqNvIl"
      },
      "source": [
        "#### **Modulus( % )**"
      ]
    },
    {
      "cell_type": "code",
      "execution_count": null,
      "metadata": {
        "collapsed": true,
        "id": "5NIXQbhQNvIl"
      },
      "outputs": [],
      "source": [
        "9%5"
      ]
    },
    {
      "cell_type": "markdown",
      "metadata": {
        "id": "Ob1ams-PNvIm"
      },
      "source": [
        "#### **Exponent( ** )**"
      ]
    },
    {
      "cell_type": "code",
      "execution_count": null,
      "metadata": {
        "collapsed": true,
        "id": "5TcaghZaNvIm"
      },
      "outputs": [],
      "source": [
        "2**3"
      ]
    },
    {
      "cell_type": "markdown",
      "metadata": {
        "id": "LQN966CvNvIm"
      },
      "source": [
        "## **Comments**\n",
        "* Single line commenting symbol is the hash symbol '#'\n",
        "* The interpreter ignores everything after #\n",
        "* Leave comments in your code to make it understandable to other team members and for yourself"
      ]
    },
    {
      "cell_type": "code",
      "execution_count": null,
      "metadata": {
        "collapsed": true,
        "id": "PJXTFSwCNvIn"
      },
      "outputs": [],
      "source": [
        "# This line is ignored"
      ]
    },
    {
      "cell_type": "markdown",
      "metadata": {
        "id": "3d7_7j1PNvIn"
      },
      "source": [
        "* Multi-line - Not supported in Python but people use triple quote (**Will show this later**)\n",
        "* Use the # on each line of a multiline comment"
      ]
    },
    {
      "cell_type": "code",
      "execution_count": null,
      "metadata": {
        "collapsed": true,
        "id": "zpmHundXNvIn"
      },
      "outputs": [],
      "source": [
        "# This is a multi-line comment\n",
        "# This line and the line above are both ignored by the interpreter"
      ]
    },
    {
      "cell_type": "markdown",
      "metadata": {
        "id": "pQaAqrVCNvIn"
      },
      "source": [
        "# **Exercise 1**\n",
        "#### **Tip Calculator!!**\n",
        "Cost of meal = 54.76\n",
        "<br>\n",
        "Tax = 7.85%\n",
        "<br>\n",
        "Tip = 15%\n",
        "<br>\n",
        "Find the tax amount, cost after the tax, tip amount, and total cost"
      ]
    },
    {
      "cell_type": "code",
      "execution_count": null,
      "metadata": {
        "collapsed": true,
        "id": "C7jbWZL6NvIo"
      },
      "outputs": [],
      "source": [
        "# Create a variable for cost of meal, tax and tip and assign their values\n",
        "# Note that percentage is not captured in programming languages. Divide by 100 instead. \n",
        "cost_of_meal = 54.76\n",
        "\n",
        "\n",
        "\n",
        "\n",
        "# Calculate tax amount by creating a variable for it and assign it to a formula using the variables for cost of meal and tax\n",
        "\n",
        "\n",
        "# Calculate cost after tax\n",
        "\n",
        "\n",
        "# Calculate tip amount\n",
        "# Hint: Calculate the tip amount the cost after tax\n",
        "\n",
        "\n",
        "# Calculate total amount\n",
        "\n",
        "\n",
        "print('My original meal cost is', cost_of_meal)\n",
        "\n",
        "# Follow the example above and print the tax amount\n",
        "\n",
        "\n",
        "# Print the cost after tax\n",
        "\n",
        "\n",
        "# Print the tip amount\n",
        "\n",
        "\n",
        "# Print the total cost of the meal\n",
        "\n"
      ]
    },
    {
      "cell_type": "markdown",
      "source": [
        "## **Data types**\n",
        "Data Types are implied. They do not have to be declared\n",
        "* Numeric types - int, float, complex\n",
        "* Boolean - True, False\n",
        "* String\n",
        "* List\n",
        "* Tuple\n",
        "\n",
        "We will cover these later in the course\n",
        "* Dictionary\n",
        "* Set "
      ],
      "metadata": {
        "id": "vOsKX_q_jl_n"
      }
    },
    {
      "cell_type": "markdown",
      "metadata": {
        "id": "vojmq_EkNvIo"
      },
      "source": [
        "###**Strings**\n",
        "* Any strand of all characters on the keyboard put in quotations\n",
        "* One line strings - declared in single quotes (' ') or double quotes (\" \")\n",
        "* Single and double quotes can be used interchangeably"
      ]
    },
    {
      "cell_type": "code",
      "execution_count": null,
      "metadata": {
        "collapsed": true,
        "id": "DRbqFRL0NvIo"
      },
      "outputs": [],
      "source": [
        "name_1 = 'John Wick'\n",
        "name_2 = \"Dag Heward-Mills\""
      ]
    },
    {
      "cell_type": "code",
      "execution_count": null,
      "metadata": {
        "collapsed": true,
        "id": "RIp_gpyJNvIp"
      },
      "outputs": [],
      "source": [
        "# this is a string and not an integer\n",
        "age = '2'"
      ]
    },
    {
      "cell_type": "code",
      "execution_count": null,
      "metadata": {
        "collapsed": true,
        "id": "_4H3aYc5NvIp"
      },
      "outputs": [],
      "source": [
        "# Start with a double quote if you use a single quote in your string\n",
        "f = \"This is Del's pencil\""
      ]
    },
    {
      "cell_type": "code",
      "execution_count": null,
      "metadata": {
        "collapsed": true,
        "id": "YW3bw5CCNvIp"
      },
      "outputs": [],
      "source": [
        "# Start with a single quote if you use a double quote in your string\n",
        "f = 'Francis said \"This is my pencil\"'"
      ]
    },
    {
      "cell_type": "code",
      "execution_count": null,
      "metadata": {
        "collapsed": true,
        "id": "Uv2yAqy_NvIq"
      },
      "outputs": [],
      "source": [
        "print (f)"
      ]
    },
    {
      "cell_type": "markdown",
      "metadata": {
        "id": "K5DjlEX2NvIq"
      },
      "source": [
        "Multi-line strings - declared in triple quotes ( \"\"\" \"\"\" or ''' ''' )"
      ]
    },
    {
      "cell_type": "code",
      "execution_count": null,
      "metadata": {
        "collapsed": true,
        "id": "leFywTpVNvIq"
      },
      "outputs": [],
      "source": [
        "eg = \"\"\"I am in the CEAS library in \n",
        "Introduction to Python session \"\"\""
      ]
    },
    {
      "cell_type": "code",
      "execution_count": null,
      "metadata": {
        "collapsed": true,
        "id": "kqLEr6uANvIq"
      },
      "outputs": [],
      "source": [
        "print(eg)"
      ]
    },
    {
      "cell_type": "markdown",
      "metadata": {
        "id": "fAYYTifnNvIq"
      },
      "source": [
        "#### **Triple quotes for comments**\n",
        "Many developers use triple quotes to comment, even though it is **not a good programming practice**.\n",
        "\n",
        "The interpreter ignores any unassigned value, and stores it in memory with no variable to track its address."
      ]
    },
    {
      "cell_type": "code",
      "execution_count": null,
      "metadata": {
        "collapsed": true,
        "id": "LaGyXb4pNvIr"
      },
      "outputs": [],
      "source": [
        "'''This can be used as a comment in\n",
        "your code. The interpreter ignores any unassigned value\n",
        "only storing it in memory with no variable to track its address'''\n",
        "\n",
        "# my real code starts here\n",
        "print(55)"
      ]
    },
    {
      "cell_type": "markdown",
      "metadata": {
        "id": "r_znuyrJNvIr"
      },
      "source": [
        "#### **String Indexing**\n",
        "Each character can be accessed by using their index starting from index 0"
      ]
    },
    {
      "cell_type": "code",
      "execution_count": null,
      "metadata": {
        "collapsed": true,
        "id": "hDEwtu9sNvIr"
      },
      "outputs": [],
      "source": [
        "name = 'Johnson Smith'"
      ]
    },
    {
      "cell_type": "code",
      "execution_count": null,
      "metadata": {
        "collapsed": true,
        "id": "HtBGhgYCNvIr"
      },
      "outputs": [],
      "source": [
        "name[0]"
      ]
    },
    {
      "cell_type": "code",
      "execution_count": null,
      "metadata": {
        "collapsed": true,
        "id": "cVpqhZaWNvIr"
      },
      "outputs": [],
      "source": [
        "name[1]"
      ]
    },
    {
      "cell_type": "code",
      "execution_count": null,
      "metadata": {
        "collapsed": true,
        "id": "wyvYQ40ONvIs"
      },
      "outputs": [],
      "source": [
        "name[6]"
      ]
    },
    {
      "cell_type": "code",
      "execution_count": null,
      "metadata": {
        "collapsed": true,
        "id": "2o_odn3eNvIs"
      },
      "outputs": [],
      "source": [
        "name[12]"
      ]
    },
    {
      "cell_type": "markdown",
      "metadata": {
        "id": "0KWp0FUENvIs"
      },
      "source": [
        "**You can start indexing from the right side with negative indexes starting with index -1**"
      ]
    },
    {
      "cell_type": "code",
      "execution_count": null,
      "metadata": {
        "collapsed": true,
        "id": "PbOku2kUNvIs"
      },
      "outputs": [],
      "source": [
        "name[-1]"
      ]
    },
    {
      "cell_type": "code",
      "execution_count": null,
      "metadata": {
        "collapsed": true,
        "id": "FgTos8isNvIs"
      },
      "outputs": [],
      "source": [
        "name[-2]"
      ]
    },
    {
      "cell_type": "code",
      "execution_count": null,
      "metadata": {
        "collapsed": true,
        "id": "R8ASL5U7NvIs"
      },
      "outputs": [],
      "source": [
        "name[-13]"
      ]
    },
    {
      "cell_type": "markdown",
      "metadata": {
        "id": "yy3WliZLNvIt"
      },
      "source": [
        "#### **Slicing**\n",
        "Extract a range of characters\n",
        "<br>\n",
        "Assume a string variable called **'var'**\n",
        "<br>\n",
        "**var[ starting index : ending index + 1 ]**"
      ]
    },
    {
      "cell_type": "code",
      "execution_count": null,
      "metadata": {
        "collapsed": true,
        "id": "zrwZ0NfKNvIt"
      },
      "outputs": [],
      "source": [
        "name"
      ]
    },
    {
      "cell_type": "code",
      "execution_count": null,
      "metadata": {
        "collapsed": true,
        "id": "C6Rlmc6oNvIt"
      },
      "outputs": [],
      "source": [
        "name[0:6]"
      ]
    },
    {
      "cell_type": "code",
      "execution_count": null,
      "metadata": {
        "collapsed": true,
        "id": "SCMfQSDbNvIu"
      },
      "outputs": [],
      "source": [
        "name[7:13]"
      ]
    },
    {
      "cell_type": "code",
      "execution_count": null,
      "metadata": {
        "collapsed": true,
        "id": "LF3XSQV3NvIu"
      },
      "outputs": [],
      "source": [
        "name[1:4]"
      ]
    },
    {
      "cell_type": "markdown",
      "metadata": {
        "id": "rhzeidPeNvIu"
      },
      "source": [
        "**<h5><center>Note</center></h5>**\n",
        "\n",
        "**Strings are \"IMMUTABLE\"** - \n",
        "Once you create a string object, you cannot change a particular string location.\n",
        "<br>\n",
        "**name[6] = 'c'** \n",
        "<br>\n",
        "will result in the error below\n",
        "\n",
        "*TypeError                                 Traceback (most recent call last)*\n",
        "<br>\n",
        "*\\< ipython-input-44-d47a2608aba2 > in < module >()*\n",
        "<br>\n",
        "*----> 1 name[6]='-'*\n",
        "<br>\n",
        "*TypeError: 'str' object does not support item assignment*\n"
      ]
    },
    {
      "cell_type": "markdown",
      "metadata": {
        "id": "eQjjQuZ8NvIv"
      },
      "source": [
        "#### **String Functions and Methods**\n"
      ]
    },
    {
      "cell_type": "markdown",
      "source": [
        "**Length of a string**"
      ],
      "metadata": {
        "id": "Ltv6tJq1xSYO"
      }
    },
    {
      "cell_type": "code",
      "source": [
        "len(name)"
      ],
      "metadata": {
        "id": "Do_6NDTVw9tF"
      },
      "execution_count": null,
      "outputs": []
    },
    {
      "cell_type": "markdown",
      "metadata": {
        "id": "WlcSZPDPNvIv"
      },
      "source": [
        "**Convert to string**"
      ]
    },
    {
      "cell_type": "code",
      "execution_count": null,
      "metadata": {
        "collapsed": true,
        "id": "uRU2VmhoNvIv"
      },
      "outputs": [],
      "source": [
        "age = 3"
      ]
    },
    {
      "cell_type": "code",
      "execution_count": null,
      "metadata": {
        "collapsed": true,
        "id": "Q9wT1ZcnNvIv"
      },
      "outputs": [],
      "source": [
        "str(age)"
      ]
    },
    {
      "cell_type": "markdown",
      "metadata": {
        "id": "eeNhBbzmNvIv"
      },
      "source": [
        "**Convert to lower case**"
      ]
    },
    {
      "cell_type": "code",
      "execution_count": null,
      "metadata": {
        "collapsed": true,
        "id": "Aaa0w265NvIv"
      },
      "outputs": [],
      "source": [
        "name.lower()"
      ]
    },
    {
      "cell_type": "markdown",
      "metadata": {
        "id": "QNR6xqgKNvIw"
      },
      "source": [
        "**Convert to upper case**"
      ]
    },
    {
      "cell_type": "code",
      "execution_count": null,
      "metadata": {
        "collapsed": true,
        "id": "-aRnigHnNvIw"
      },
      "outputs": [],
      "source": [
        "name.upper()"
      ]
    },
    {
      "cell_type": "markdown",
      "metadata": {
        "id": "wTercCd1NvIw"
      },
      "source": [
        "**Is digit/Is alpha**\n",
        "\n",
        "Output is a Boolean value (True/False)"
      ]
    },
    {
      "cell_type": "code",
      "execution_count": null,
      "metadata": {
        "id": "aBmJogjaNvIw"
      },
      "outputs": [],
      "source": [
        "name = 'Francis'"
      ]
    },
    {
      "cell_type": "code",
      "execution_count": null,
      "metadata": {
        "id": "7RSzLWCDNvIw"
      },
      "outputs": [],
      "source": [
        "name.isdigit()"
      ]
    },
    {
      "cell_type": "code",
      "execution_count": null,
      "metadata": {
        "id": "cARmRfgGNvIw"
      },
      "outputs": [],
      "source": [
        "name.isalpha()"
      ]
    },
    {
      "cell_type": "code",
      "execution_count": null,
      "metadata": {
        "id": "8IPxDNPfNvIw"
      },
      "outputs": [],
      "source": [
        "str(age).isdigit()"
      ]
    },
    {
      "cell_type": "markdown",
      "metadata": {
        "id": "Mt2Le1TNNvIx"
      },
      "source": [
        "**Replace characters**"
      ]
    },
    {
      "cell_type": "code",
      "execution_count": null,
      "metadata": {
        "id": "a8Znotd7NvIx"
      },
      "outputs": [],
      "source": [
        "name.replace('s','k')"
      ]
    },
    {
      "cell_type": "markdown",
      "metadata": {
        "id": "rI_eEcLpNvIx"
      },
      "source": [
        "**Split a string using a delimiter character**"
      ]
    },
    {
      "cell_type": "code",
      "execution_count": null,
      "metadata": {
        "collapsed": true,
        "id": "pWd5ctrKNvIx"
      },
      "outputs": [],
      "source": [
        "text = 'I am going to the University of Cincinnati'\n",
        "name = \"Dag Heward-Mills\""
      ]
    },
    {
      "cell_type": "code",
      "execution_count": null,
      "metadata": {
        "collapsed": true,
        "id": "xByQvVltNvIx"
      },
      "outputs": [],
      "source": [
        "text.split(' ')"
      ]
    },
    {
      "cell_type": "code",
      "execution_count": null,
      "metadata": {
        "collapsed": true,
        "id": "6-fK6CYTNvIx"
      },
      "outputs": [],
      "source": [
        "name.split('-')"
      ]
    },
    {
      "cell_type": "markdown",
      "metadata": {
        "id": "KoOsi92XNvIx"
      },
      "source": [
        "#### **String Concatenation**\n",
        "**Combining strings is done by using the (+) operator between them**"
      ]
    },
    {
      "cell_type": "code",
      "execution_count": null,
      "metadata": {
        "id": "WvEvx6WKNvIx"
      },
      "outputs": [],
      "source": [
        "string1 = 'My name is '\n",
        "name = 'John'\n",
        "string2 = string1 + name\n",
        "print(string2)"
      ]
    },
    {
      "cell_type": "markdown",
      "metadata": {
        "id": "1i78_x29NvIy"
      },
      "source": [
        "**In order to combine a string with a non-string variable, use str( ) method to convert non-strings to strings**\n",
        "<br>\n",
        "You cannot concatenate a string with a non-string type without converting the non-string type to a string.\n",
        "<br>\n",
        "No conversion will result in error similar tp the error below\n",
        "\n",
        "*TypeError                                 Traceback (most recent call last)*\n",
        "<br>\n",
        "*\\< ipython-input-77-887da7680fd9 > in < module >( )*\n",
        "<br>\n",
        "*----> 1 string1 + 9*\n",
        "<br>\n",
        "*TypeError: must be str, not int*"
      ]
    },
    {
      "cell_type": "code",
      "execution_count": null,
      "metadata": {
        "collapsed": true,
        "id": "L5GGVYeANvIy"
      },
      "outputs": [],
      "source": [
        "string1 = 'My name is '\n",
        "name = 'John '\n",
        "age = 16\n",
        "string2 = string1 + name + 'I am ' + str(age) + ' years old'\n",
        "print(string2)"
      ]
    },
    {
      "cell_type": "markdown",
      "source": [
        "# **Exercise 2**\n",
        "\n",
        "#### **(Strings and Lists)**\n",
        "*   Create a variable with the string value - **The quick brown fox jumps over a lazy brown dog.** <br>\n",
        "    * Print the length of this string variable\n",
        "    * **'Split'** the string using **'  '** (space character) and assign this operation to a new variable. Print the length of the new variable\n",
        "    * Find the middle element of the sequence in new variable and return its value\n",
        "    * **'replace'** we want to replace the brown fox to blue fox\n",
        "\n",
        "\n"
      ],
      "metadata": {
        "id": "PrjCs6A2tz_L"
      }
    },
    {
      "cell_type": "code",
      "source": [
        "# Enter your code here\n",
        "\n",
        "\n",
        "\n",
        "\n",
        "\n",
        "\n",
        "\n",
        "\n"
      ],
      "metadata": {
        "id": "QN4qbRs6OPKi"
      },
      "execution_count": null,
      "outputs": []
    },
    {
      "cell_type": "markdown",
      "metadata": {
        "id": "lYiBvM6TNvIy"
      },
      "source": [
        "### **Lists**\n",
        "* A datatype that can store a collection of different pieces of information as a sequence under a single variable name\n",
        "* Creating lists - Put comma separated values within square brackets. Values can be of different data types"
      ]
    },
    {
      "cell_type": "code",
      "execution_count": null,
      "metadata": {
        "collapsed": true,
        "id": "CZmTdv2WNvIy"
      },
      "outputs": [],
      "source": [
        "list1 = ['physics','astronomy',56.98,'MJ',-9.36]\n",
        "\n",
        "# list within a list\n",
        "list2 = ['chemistry','biology',77.98,[3,4,65],'EE',-56]"
      ]
    },
    {
      "cell_type": "markdown",
      "metadata": {
        "id": "bw69SFmYNvIy"
      },
      "source": [
        "#### **Accessing values via indexing**\n",
        "* Same as String objects. \n",
        "* Elements or a range of elements can be accessed by index"
      ]
    },
    {
      "cell_type": "code",
      "execution_count": null,
      "metadata": {
        "collapsed": true,
        "id": "NS7D-aAgNvIy"
      },
      "outputs": [],
      "source": [
        "list1[0]"
      ]
    },
    {
      "cell_type": "code",
      "execution_count": null,
      "metadata": {
        "collapsed": true,
        "id": "XR5vfQ3YNvIy"
      },
      "outputs": [],
      "source": [
        "list1[1]"
      ]
    },
    {
      "cell_type": "code",
      "execution_count": null,
      "metadata": {
        "collapsed": true,
        "id": "HgDNlxaHNvIz"
      },
      "outputs": [],
      "source": [
        "list1[-1]"
      ]
    },
    {
      "cell_type": "code",
      "execution_count": null,
      "metadata": {
        "collapsed": true,
        "id": "SKujr44gNvIz"
      },
      "outputs": [],
      "source": [
        "list1[-2]"
      ]
    },
    {
      "cell_type": "code",
      "execution_count": null,
      "metadata": {
        "collapsed": true,
        "id": "idYH36WgNvIz"
      },
      "outputs": [],
      "source": [
        "list2[3]"
      ]
    },
    {
      "cell_type": "code",
      "execution_count": null,
      "metadata": {
        "collapsed": true,
        "id": "pCtzCdEeNvIz"
      },
      "outputs": [],
      "source": [
        "list2[3][2]"
      ]
    },
    {
      "cell_type": "code",
      "execution_count": null,
      "metadata": {
        "collapsed": true,
        "id": "PT3_yrtPNvIz"
      },
      "outputs": [],
      "source": [
        "list1[0:4]"
      ]
    },
    {
      "cell_type": "code",
      "execution_count": null,
      "metadata": {
        "collapsed": true,
        "id": "h8sZ-rQzNvIz"
      },
      "outputs": [],
      "source": [
        "list2[3:5]"
      ]
    },
    {
      "cell_type": "markdown",
      "metadata": {
        "id": "YpvQrhE-NvIz"
      },
      "source": [
        "#### **List Concatenation**\n",
        "**Can be done by using the (+) operator between two lists**"
      ]
    },
    {
      "cell_type": "code",
      "execution_count": null,
      "metadata": {
        "collapsed": true,
        "id": "oCYcjOL9NvI0"
      },
      "outputs": [],
      "source": [
        "[1,2,3] + [5,6,7]"
      ]
    },
    {
      "cell_type": "code",
      "execution_count": null,
      "metadata": {
        "collapsed": true,
        "id": "a_N_bIf3NvI0"
      },
      "outputs": [],
      "source": [
        "list1 + list2"
      ]
    },
    {
      "cell_type": "markdown",
      "metadata": {
        "id": "M-OR6K6NNvI0"
      },
      "source": [
        "#### **List Functions and Methods**\n",
        "\n",
        "**Length of a list**"
      ]
    },
    {
      "cell_type": "code",
      "execution_count": null,
      "metadata": {
        "collapsed": true,
        "id": "CXwTmwYENvI0"
      },
      "outputs": [],
      "source": [
        "len(list1)"
      ]
    },
    {
      "cell_type": "code",
      "execution_count": null,
      "metadata": {
        "collapsed": true,
        "id": "z-2LCdroNvI0"
      },
      "outputs": [],
      "source": [
        "len(list2)"
      ]
    },
    {
      "cell_type": "markdown",
      "metadata": {
        "id": "bevA4YlpNvI0"
      },
      "source": [
        "**Maximum/Minimum value**"
      ]
    },
    {
      "cell_type": "code",
      "execution_count": null,
      "metadata": {
        "collapsed": true,
        "id": "BYfQoxX7NvI0"
      },
      "outputs": [],
      "source": [
        "list3 = [3,4,67,2,1] \n",
        "list4 = ['3','4','67','2','1','four','three']"
      ]
    },
    {
      "cell_type": "code",
      "execution_count": null,
      "metadata": {
        "collapsed": true,
        "id": "1SEKwfBQNvI0"
      },
      "outputs": [],
      "source": [
        "max(list3)"
      ]
    },
    {
      "cell_type": "code",
      "execution_count": null,
      "metadata": {
        "collapsed": true,
        "id": "oFt2-oORNvI1"
      },
      "outputs": [],
      "source": [
        "max(list4)"
      ]
    },
    {
      "cell_type": "code",
      "execution_count": null,
      "metadata": {
        "collapsed": true,
        "id": "V9931epWNvI1"
      },
      "outputs": [],
      "source": [
        "min(list4)"
      ]
    },
    {
      "cell_type": "markdown",
      "metadata": {
        "id": "R5CrQtXyNvI1"
      },
      "source": [
        "**Append object to list**"
      ]
    },
    {
      "cell_type": "code",
      "execution_count": null,
      "metadata": {
        "collapsed": true,
        "id": "7hJe-babNvI1"
      },
      "outputs": [],
      "source": [
        "list4.append('two')\n",
        "list4.append('three')\n",
        "list4"
      ]
    },
    {
      "cell_type": "markdown",
      "metadata": {
        "id": "1y1L596fNvI1"
      },
      "source": [
        "**Frequency of object**"
      ]
    },
    {
      "cell_type": "code",
      "execution_count": null,
      "metadata": {
        "collapsed": true,
        "id": "8rVi8_wANvI1"
      },
      "outputs": [],
      "source": [
        "list4.count('three')"
      ]
    },
    {
      "cell_type": "markdown",
      "metadata": {
        "id": "qjCspisuNvI1"
      },
      "source": [
        "**Return index**"
      ]
    },
    {
      "cell_type": "code",
      "execution_count": null,
      "metadata": {
        "collapsed": true,
        "id": "RjwEcReLNvI2"
      },
      "outputs": [],
      "source": [
        "list4.index('1')"
      ]
    },
    {
      "cell_type": "markdown",
      "metadata": {
        "id": "_0OMhT3SNvI2"
      },
      "source": [
        "**Insert object**"
      ]
    },
    {
      "cell_type": "code",
      "execution_count": null,
      "metadata": {
        "collapsed": true,
        "id": "M57ba0IVNvI2"
      },
      "outputs": [],
      "source": [
        "list4.insert(3,56)\n",
        "list4"
      ]
    },
    {
      "cell_type": "markdown",
      "metadata": {
        "id": "UgC1r-6KNvI2"
      },
      "source": [
        "**Delete object**\n",
        "\n",
        "*By Index position*"
      ]
    },
    {
      "cell_type": "code",
      "execution_count": null,
      "metadata": {
        "collapsed": true,
        "id": "YX9BnIdjNvI2"
      },
      "outputs": [],
      "source": [
        "list4.pop(3)"
      ]
    },
    {
      "cell_type": "code",
      "execution_count": null,
      "metadata": {
        "collapsed": true,
        "id": "Na7wOJGcNvI_"
      },
      "outputs": [],
      "source": [
        "list4"
      ]
    },
    {
      "cell_type": "markdown",
      "metadata": {
        "id": "0MeQjjbCNvI_"
      },
      "source": [
        "*By element referencing*"
      ]
    },
    {
      "cell_type": "code",
      "execution_count": null,
      "metadata": {
        "collapsed": true,
        "id": "pIHi1z7sNvI_"
      },
      "outputs": [],
      "source": [
        "list4.remove('67')"
      ]
    },
    {
      "cell_type": "code",
      "execution_count": null,
      "metadata": {
        "collapsed": true,
        "id": "v4LUANfxNvI_"
      },
      "outputs": [],
      "source": [
        "list4"
      ]
    },
    {
      "cell_type": "markdown",
      "metadata": {
        "id": "UImX-Ia1NvJA"
      },
      "source": [
        "**Reverse the list**"
      ]
    },
    {
      "cell_type": "code",
      "execution_count": null,
      "metadata": {
        "collapsed": true,
        "id": "KyIXlL1sNvJA"
      },
      "outputs": [],
      "source": [
        "list4.reverse()\n",
        "list4"
      ]
    },
    {
      "cell_type": "markdown",
      "metadata": {
        "id": "GzMWxPoHNvJA"
      },
      "source": [
        "**Sort the list (natural order)**"
      ]
    },
    {
      "cell_type": "code",
      "execution_count": null,
      "metadata": {
        "collapsed": true,
        "id": "M6N95hBiNvJA"
      },
      "outputs": [],
      "source": [
        "list4.sort()\n",
        "list4"
      ]
    },
    {
      "cell_type": "markdown",
      "source": [
        "**List conversion**"
      ],
      "metadata": {
        "id": "up4bi0TVSdfh"
      }
    },
    {
      "cell_type": "code",
      "source": [
        "str1 = 'This is a string value'\n",
        "lst1 = list(str1)\n",
        "print(lst1)"
      ],
      "metadata": {
        "id": "9w_oLzy7Sp8Q"
      },
      "execution_count": null,
      "outputs": []
    },
    {
      "cell_type": "markdown",
      "metadata": {
        "id": "Mv7CzGfPNvJC"
      },
      "source": [
        "**<h5><center>Note</center></h5>**\n",
        "\n",
        "**Lists are \"MUTABLE\"**"
      ]
    },
    {
      "cell_type": "code",
      "execution_count": null,
      "metadata": {
        "collapsed": true,
        "id": "7bMz1aJHNvJC"
      },
      "outputs": [],
      "source": [
        "list4[5] = 5\n",
        "list4"
      ]
    },
    {
      "cell_type": "markdown",
      "metadata": {
        "id": "PsMCPT8ENvJC"
      },
      "source": [
        "### **Tuples**\n",
        "Tuples are sequences, just like lists except\n",
        "* Tuples are immutable - cannot be changed or updated like lists\n",
        "* Tuples use parentheses ( ), whereas lists use square brackets [ ]"
      ]
    },
    {
      "cell_type": "code",
      "execution_count": null,
      "metadata": {
        "collapsed": true,
        "id": "WwCWXLGqNvJC"
      },
      "outputs": [],
      "source": [
        "tup1 = (3,4,67,2,1)"
      ]
    },
    {
      "cell_type": "markdown",
      "metadata": {
        "id": "QG8sjYBhNvJC"
      },
      "source": [
        "**Tuples are Mutable**\n",
        "\n",
        "**tup[2] = 8**\n",
        "<br>\n",
        "will result in the error below\n",
        "\n",
        "*TypeError                                 Traceback (most recent call last)*\n",
        "<br>\n",
        "*\\< ipython-input-177-256383ac5724 > in < module >()*\n",
        "<br>\n",
        "*----> 1 tup[2] = 8*\n",
        "<br>\n",
        "*TypeError: 'tuple' object does not support item assignment*"
      ]
    },
    {
      "cell_type": "markdown",
      "source": [
        "**Tuple conversion**"
      ],
      "metadata": {
        "id": "K1ZIyonfUayL"
      }
    },
    {
      "cell_type": "code",
      "source": [
        "tup2 = tuple([1,2,3,4,5])\n",
        "print(tup2)"
      ],
      "metadata": {
        "id": "jWEHXFJYUXEM"
      },
      "execution_count": null,
      "outputs": []
    },
    {
      "cell_type": "markdown",
      "source": [
        "## **While Loop**\n"
      ],
      "metadata": {
        "id": "Cn6zBALaH5NB"
      }
    },
    {
      "cell_type": "markdown",
      "source": [
        "![loop.PNG](data:image/png;base64,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)"
      ],
      "metadata": {
        "id": "3l7QmKJZIXsL"
      }
    },
    {
      "cell_type": "markdown",
      "source": [
        "* **while** loop will execute as long as the looping condition or Boolean expression is **True**\n",
        "* The loop is exited when the looping condition or Boolean expression becomes **False**\n",
        "\n",
        "  ***while   < condition >:***<br>\n",
        "  $\\;\\;\\;\\;\\;\\;$***statement(s)*** \n",
        "\n"
      ],
      "metadata": {
        "id": "H_3vnhiXN1b9"
      }
    },
    {
      "cell_type": "code",
      "source": [
        "string = input('Enter a string value: ')\n",
        "\n",
        "idx = 0\n",
        "\n",
        "while idx < len(string):\n",
        "    print(string[idx].upper())\n",
        "    idx += 1   # idx = idx + 1\n",
        "    \n",
        "print('\\nDone')"
      ],
      "metadata": {
        "id": "67i3pOCeOTNY"
      },
      "execution_count": null,
      "outputs": []
    },
    {
      "cell_type": "code",
      "source": [
        "a = 0\n",
        "b = 0\n",
        "\n",
        "while (a+b) <= 10:\n",
        "    \n",
        "    a = int(input('Enter a first number: '))\n",
        "    b = int(input('Enter a second number: '))\n",
        "    print('Sum of the 2 numbers: ', (a+b))\n",
        "    \n",
        "print('Sum of the 2 numbers must be less than or equal to 10')    \n",
        "   \n",
        "print('\\nDone')"
      ],
      "metadata": {
        "id": "I9MuU-KgGCH9"
      },
      "execution_count": null,
      "outputs": []
    },
    {
      "cell_type": "markdown",
      "source": [
        "### **Infinite loop**\n",
        "Occurs when\n",
        "* Loop condition cannot possibly be False example ***while 1 != 2:*** or ***while True:***\n",
        "* Logic of the loop prevents the loop condition from becoming false\n",
        "  \n",
        " ***count = 10***<br>\n",
        " ***while count>0:***<br>\n",
        " $\\;\\;\\;\\;\\;\\;$***count += 1***\n",
        "\n",
        "### **Break Statement**\n",
        "**break** - Used to exit the current loop"
      ],
      "metadata": {
        "id": "DNiycc80jsIi"
      }
    },
    {
      "cell_type": "markdown",
      "source": [
        "# **Exercise 3 - with While**\n",
        "\n",
        "* Find the sum of the squares of the first 'n' numbers. Take an input from the user for 'n'. Use **'while'** loop to return the output."
      ],
      "metadata": {
        "id": "s2yMTRDHGHLV"
      }
    },
    {
      "cell_type": "code",
      "source": [
        "# Enter your code here\n",
        "\n",
        "\n",
        "\n",
        "\n",
        "\n",
        "\n",
        "\n"
      ],
      "metadata": {
        "id": "OFLQ9oK5Gvgn"
      },
      "execution_count": null,
      "outputs": []
    },
    {
      "cell_type": "markdown",
      "metadata": {
        "id": "MkByqWaZwc5l"
      },
      "source": [
        "## Iteration: `for` vs. `while`"
      ]
    },
    {
      "cell_type": "markdown",
      "metadata": {
        "id": "NrTl4BeKwc5n"
      },
      "source": [
        "```\n",
        "while *Boolean expression*:\n",
        "    *block of code*\n",
        "```"
      ]
    },
    {
      "cell_type": "markdown",
      "metadata": {
        "id": "1x5vbX3kwc5o"
      },
      "source": [
        "```\n",
        "for *element* in *sequence*:\n",
        "    *block of code*\n",
        "```"
      ]
    },
    {
      "cell_type": "markdown",
      "source": [
        "# **Exercise 3 - with For** \n",
        "\n",
        "* Find the sum of the squares of the first 'n' numbers. Take an input from the user for 'n'. Use **'while'** loop to return the output."
      ],
      "metadata": {
        "id": "NOUM6LfvodyN"
      }
    },
    {
      "cell_type": "code",
      "source": [
        "# Enter your code here\n",
        "\n",
        "\n",
        "\n",
        "\n",
        "\n",
        "\n",
        "\n"
      ],
      "metadata": {
        "id": "M8QMQHZzodyN"
      },
      "execution_count": null,
      "outputs": []
    },
    {
      "cell_type": "markdown",
      "source": [
        "##Combining Iteration and Conditional Statements "
      ],
      "metadata": {
        "id": "zukqr-mJoO_t"
      }
    },
    {
      "cell_type": "markdown",
      "metadata": {
        "id": "bDdYNTG-wc5S"
      },
      "source": [
        "### Conditional Statements: `if`–`elif`–`else`\n",
        "\n",
        "```\n",
        "if *Boolean expression*:\n",
        "    *block of code*\n",
        "elif *Boolean expression*:\n",
        "    *block of code*\n",
        "else:\n",
        "    *block of code*\n",
        "```"
      ]
    },
    {
      "cell_type": "markdown",
      "metadata": {
        "id": "9mC-jNT0TlGp"
      },
      "source": [
        "# **Exercise 4 - while/Break/Conditional Statemetns** \n",
        "\n",
        "The Fibonacci numbers begin with 1, 1.  After the first two numbers, each number is the sum of the previous two. 1 + 1 = 2, so 2 is the third number. Then 1 + 2 = 3, so 3 is the next one, and so on. \n",
        "\n",
        "Write a script that create a list named `fib_list` that contains the <font color=red>first 20 elements</font> of the Fibonacci numbers.\n",
        "\n",
        "This is how the first 6 elements of the fibonacci number look like:\n",
        "\n",
        "`fib_list=[1, 1, 2, 3, 5, 8]`\n"
      ]
    },
    {
      "cell_type": "code",
      "execution_count": null,
      "metadata": {
        "id": "1MoaCPAXTlGp",
        "colab": {
          "base_uri": "https://localhost:8080/"
        },
        "outputId": "367e139e-80ef-404f-8338-d3795f0c7041"
      },
      "outputs": [
        {
          "output_type": "stream",
          "name": "stdout",
          "text": [
            "[1, 1, 2, 3, 5, 8, 13, 21, 34, 55, 89, 144, 233, 377, 610, 987, 1597, 2584, 4181, 6765]\n"
          ]
        }
      ],
      "source": [
        "# Begin solution\n",
        "fib_list = [1,1]\n",
        "\n",
        "while len(fib_list)<20:\n",
        "  fib_list.append(fib_list[-1]+fib_list[-2]) \n",
        "\n",
        "\n",
        "\n",
        "print(fib_list)\n",
        "# End solution"
      ]
    },
    {
      "cell_type": "markdown",
      "metadata": {
        "id": "O7CHaml3NvJG"
      },
      "source": [
        "##Resources\n",
        "* CEAS Library Python resources - http://guides.libraries.uc.edu/python\n",
        "* Online links & tutorials\n",
        " * Python documentation - https://www.python.org/doc/\n",
        " * Python Programming wiki book - http://en.wikibooks.org/wiki/Python_Programming\n",
        " * Python tutorials - Udemy, Code academy, etc\n",
        " * For success stories - https://www.python.org/about/success\n"
      ]
    },
    {
      "cell_type": "markdown",
      "metadata": {
        "id": "47PiYxZDNvJG"
      },
      "source": [
        "# <center>Questions ??\n",
        "\n",
        "\n",
        "**<center>Thanks for attending the workshop !!**\n",
        "\n",
        "\n",
        "**<center>Your kind suggestions/feedbacks are more than welcome**"
      ]
    }
  ],
  "metadata": {
    "kernelspec": {
      "display_name": "Python 3",
      "language": "python",
      "name": "python3"
    },
    "language_info": {
      "codemirror_mode": {
        "name": "ipython",
        "version": 3
      },
      "file_extension": ".py",
      "mimetype": "text/x-python",
      "name": "python",
      "nbconvert_exporter": "python",
      "pygments_lexer": "ipython3",
      "version": "3.7.3"
    },
    "colab": {
      "provenance": [],
      "collapsed_sections": [
        "bvelBHQ_VGLU",
        "vHGdL9tyVIQM",
        "vZWS8PPxNvIj",
        "rYURQKUTNvIj",
        "VFPs8YiVNvIk",
        "i6VgPlE1NvIk",
        "_3KMOMXtNvIl",
        "T_EqACQqNvIl",
        "Ob1ams-PNvIm",
        "r_znuyrJNvIr",
        "yy3WliZLNvIt",
        "KoOsi92XNvIx"
      ],
      "toc_visible": true
    }
  },
  "nbformat": 4,
  "nbformat_minor": 0
}
